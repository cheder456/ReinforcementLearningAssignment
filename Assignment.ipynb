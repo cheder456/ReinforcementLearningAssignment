{
  "cells": [
    {
      "cell_type": "markdown",
      "metadata": {
        "id": "fg-FAmtP6gT3"
      },
      "source": [
        "# Assignment"
      ],
      "id": "fg-FAmtP6gT3"
    },
    {
      "cell_type": "code",
      "execution_count": 1,
      "metadata": {
        "id": "2x5ThoA96gUF"
      },
      "outputs": [],
      "source": [
        "# Import \n",
        "\n",
        "import numpy as np\n",
        "import random\n",
        "import matplotlib.pyplot as plt\n",
        "from degree_freedom_queen import *\n",
        "from degree_freedom_king1 import *\n",
        "from degree_freedom_king2 import *\n",
        "from generate_game import *\n",
        "from Chess_env import *\n",
        "from enum import Enum\n",
        "\n",
        "\n",
        "size_board = 4"
      ],
      "id": "2x5ThoA96gUF"
    },
    {
      "cell_type": "markdown",
      "metadata": {
        "id": "nPq9Emrs6gUP"
      },
      "source": [
        "## The Environment\n",
        "\n",
        "You can find the environment in the file Chess_env, which contains the class Chess_env. To define an object, you need to provide the board size considered as input. In our example, size_board=4. \n",
        "Chess_env is composed by the following methods:\n",
        "\n",
        "1. Initialise_game. The method initialises an episode by placing the three pieces considered (Agent's king and queen, enemy's king) in the chess board. The outputs of the method are described below in order.\n",
        "\n",
        "     S $\\;$ A matrix representing the board locations filled with 4 numbers: 0, no piece in that position; 1, location of the \n",
        "     agent's king; 2 location of the queen; 3 location of the enemy king.\n",
        "     \n",
        "     X $\\;$ The features, that is the input to the neural network. See the assignment for more information regarding the            definition of the features adopted. To personalise this, go into the Features method of the class Chess_env() and change        accordingly.\n",
        "     \n",
        "     allowed_a $\\;$ The allowed actions that the agent can make. The agent is moving a king, with a total number of 8                possible actions, and a queen, with a total number of $(board_{size}-1)\\times 8$ actions. The total number of possible actions correspond      to the sum of the two, but not all actions are allowed in a given position (movements to locations outside the borders or      against chess rules). Thus, the variable allowed_a is a vector that is one (zero) for an action that the agent can (can't)      make. Be careful, apply the policy considered on the actions that are allowed only.\n",
        "     \n",
        "\n",
        "2. OneStep. The method performs a one step update of the system. Given as input the action selected by the agent, it updates the chess board by performing that action and the response of the enemy king (which is a random allowed action in the settings considered). The first three outputs are the same as for the Initialise_game method, but the variables are computed for the position reached after the update of the system. The fourth and fifth outputs are:\n",
        "\n",
        "     R $\\;$ The reward. To change this, look at the OneStep method of the class where the rewards are set.\n",
        "     \n",
        "     Done $\\;$ A variable that is 1 if the episode has ended (checkmate or draw).\n",
        "     \n",
        "     \n",
        "3. Features. Given the chessboard position, the method computes the features.\n",
        "\n",
        "This information and a quick analysis of the class should be all you need to get going. The other functions that the class exploits are uncommented and constitute an example on how not to write a python code. You can take a look at them if you want, but it is not necessary.\n",
        "\n",
        "\n",
        "\n",
        "\n"
      ],
      "id": "nPq9Emrs6gUP"
    },
    {
      "cell_type": "code",
      "execution_count": 2,
      "metadata": {
        "id": "vvZYPhao6gUW"
      },
      "outputs": [],
      "source": [
        "## INITIALISE THE ENVIRONMENT\n",
        "\n",
        "env=Chess_Env(size_board)"
      ],
      "id": "vvZYPhao6gUW"
    },
    {
      "cell_type": "code",
      "execution_count": 5,
      "metadata": {
        "colab": {
          "base_uri": "https://localhost:8080/"
        },
        "id": "Yfs-k7uD6gUk",
        "outputId": "cfa47e32-d6dc-45e8-e61f-04c590691732"
      },
      "outputs": [
        {
          "output_type": "stream",
          "name": "stdout",
          "text": [
            "[0. 0. 0. 0. 0. 0. 0. 0. 0. 0. 1. 0. 0. 0. 0. 0. 0. 0. 0. 0. 0. 0. 0. 0.\n",
            " 0. 0. 0. 1. 0. 0. 0. 0. 0. 0. 0. 0. 1. 0. 0. 0. 0. 0. 0. 0. 0. 0. 0. 0.\n",
            " 1. 0. 0. 0. 1. 0. 0. 0. 0. 0.]\n",
            "check?  0\n",
            "dofk2  2\n",
            "[ 0  3  4 15 21 24 25 28 29 30]\n",
            "15\n",
            "\n",
            "[[0 3 0 0]\n",
            " [0 0 0 0]\n",
            " [0 0 1 0]\n",
            " [0 0 2 0]]\n",
            "0  0\n",
            "check?  0\n",
            "dofk2  2\n",
            "[ 6  9 10 18 21 26 27 28 29 30]\n",
            "10\n",
            "\n",
            "[[0 0 3 0]\n",
            " [0 0 0 0]\n",
            " [0 0 1 0]\n",
            " [2 0 0 0]]\n",
            "0  0\n",
            "check?  0\n",
            "dofk2  1\n",
            "[ 3  4  5  6  7  8 18 19 24 26 27 28 29]\n",
            "28\n",
            "\n",
            "[[0 0 0 0]\n",
            " [0 0 0 3]\n",
            " [0 0 0 0]\n",
            " [2 0 0 1]]\n",
            "0  0\n",
            "check?  0\n",
            "dofk2  1\n",
            "[ 3  4  5  6  7 18 27]\n",
            "18\n",
            "\n",
            "[[0 0 3 0]\n",
            " [0 0 0 0]\n",
            " [0 2 0 0]\n",
            " [0 0 0 1]]\n",
            "0  0\n",
            "check?  0\n",
            "dofk2  1\n",
            "[ 0  6  7  9 12 15 21 25 27 31]\n",
            "9\n",
            "\n",
            "[[0 3 0 0]\n",
            " [0 0 0 0]\n",
            " [2 0 0 0]\n",
            " [0 0 0 1]]\n",
            "0  0\n",
            "check?  0\n",
            "dofk2  1\n"
          ]
        }
      ],
      "source": [
        "## PRINT 5 STEPS OF AN EPISODE CONSIDERING A RANDOM AGENT\n",
        "\n",
        "S,X,allowed_a=env.Initialise_game(0)                       # INTIALISE GAME\n",
        "\n",
        "print(X)                                                  # PRINT CHESS BOARD (SEE THE DESCRIPTION ABOVE)\n",
        "\n",
        "print('check? ',env.check)                                # PRINT VARIABLE THAT TELLS IF ENEMY KING IS IN CHECK (1) OR NOT (0)\n",
        "print('dofk2 ',np.sum(env.dfk2_constrain).astype(int))    # PRINT THE NUMBER OF LOCATIONS THAT THE ENEMY KING CAN MOVE TO\n",
        "\n",
        "\n",
        "for i in range(5):\n",
        "    \n",
        "    a,_=np.where(allowed_a==1)                  # FIND WHAT THE ALLOWED ACTIONS ARE\n",
        "    a_agent=np.random.permutation(a)[0]  # MAKE A RANDOM ACTION\n",
        "    print(a)\n",
        "    print(a_agent)\n",
        "    S,X,allowed_a,R,Done=env.OneStep(a_agent)   # UPDATE THE ENVIRONMENT\n",
        "    \n",
        "    \n",
        "    ## PRINT CHESS BOARD AND VARIABLES\n",
        "    print('')\n",
        "    print(S)\n",
        "    print(R,'', Done)\n",
        "    print('check? ',env.check)\n",
        "    print('dofk2 ',np.sum(env.dfk2_constrain).astype(int))\n",
        "    \n",
        "    \n",
        "    # TERMINATE THE EPISODE IF Done=True (DRAW OR CHECKMATE)\n",
        "    if Done:\n",
        "        break\n",
        "        \n"
      ],
      "id": "Yfs-k7uD6gUk"
    },
    {
      "cell_type": "code",
      "execution_count": 6,
      "metadata": {
        "colab": {
          "base_uri": "https://localhost:8080/"
        },
        "id": "lU0UJb1D6gU_",
        "outputId": "36d66f09-384f-4756-a723-d8c0fb2d372b"
      },
      "outputs": [
        {
          "output_type": "stream",
          "name": "stdout",
          "text": [
            "Random_Agent, Average reward: 0.0 Number of steps:  31.0\n"
          ]
        }
      ],
      "source": [
        "# PERFORM N_episodes=1000 EPISODES MAKING RANDOM ACTIONS AND COMPUTE THE AVERAGE REWARD AND NUMBER OF MOVES \n",
        "\n",
        "S,X,allowed_a=env.Initialise_game(0)\n",
        "N_episodes=1000\n",
        "\n",
        "# VARIABLES WHERE TO SAVE THE FINAL REWARD IN AN EPISODE AND THE NUMBER OF MOVES \n",
        "R_save_random = np.zeros([N_episodes, 1])\n",
        "N_moves_save_random = np.zeros([N_episodes, 1])\n",
        "\n",
        "for n in range(N_episodes):\n",
        "    \n",
        "    S,X,allowed_a=env.Initialise_game(0)     # INITIALISE GAME\n",
        "    Done=0                                  # SET Done=0 AT THE BEGINNING\n",
        "    i=1                                     # COUNTER FOR THE NUMBER OF ACTIONS (MOVES) IN AN EPISODE\n",
        "    \n",
        "    # UNTIL THE EPISODE IS NOT OVER...(Done=0)\n",
        "    while Done==0:\n",
        "        \n",
        "        # SAME AS THE CELL BEFORE, BUT SAVING THE RESULTS WHEN THE EPISODE TERMINATES \n",
        "        \n",
        "        a,_=np.where(allowed_a==1)\n",
        "        a_agent=np.random.permutation(a)[0]\n",
        "\n",
        "        S,X,allowed_a,R,Done=env.OneStep(a_agent)\n",
        "        \n",
        "        \n",
        "        if Done:\n",
        "            \n",
        "            R_save_random[n]=np.copy(R)\n",
        "            N_moves_save_random[n]=np.copy(i)\n",
        "\n",
        "            break\n",
        "\n",
        "        i=i+1                               # UPDATE THE COUNTER\n",
        "\n",
        "\n",
        "\n",
        "# AS YOU SEE, THE PERFORMANCE OF A RANDOM AGENT ARE NOT GREAT, SINCE THE MAJORITY OF THE POSITIONS END WITH A DRAW \n",
        "# (THE ENEMY KING IS NOT IN CHECK AND CAN'T MOVE)\n",
        "\n",
        "print('Random_Agent, Average reward:',np.mean(R_save_random),'Number of steps: ',np.mean(N_moves_save_random))\n",
        "\n"
      ],
      "id": "lU0UJb1D6gU_"
    },
    {
      "cell_type": "markdown",
      "metadata": {
        "id": "SVvfH2eG6gVB"
      },
      "source": [
        "# TASK 2 -6 "
      ],
      "id": "SVvfH2eG6gVB"
    },
    {
      "cell_type": "markdown",
      "metadata": {
        "id": "xAKAnwSj6gVv"
      },
      "source": [
        "\n",
        "Instead of a lookup table, we can implement the Q value memory in the form of a simple neural network. In place a single row in the table for a given state, we represent each state as a distributed pattern of activation over a set of neural network units in the input layer of a network.\n",
        "\n",
        "States:\n",
        "The three boards\n",
        "Actions:\n",
        "All movements of king 1\n",
        "All movements of queen 1\n",
        "Rewards:\n",
        "Check mate: 0\n",
        "Neutral: -1\n",
        "Own king in check mate: -10000000\n",
        "Own king in check: -10000\n",
        "Illegal move: -10000000000000\n",
        "Draw: -2\n",
        "\n",
        "How to encode actions:\n",
        "King: up, down, left, right + diagonals: 8 degrees of freedom\n",
        "Queen: same principle: 24 degrees of freedom\n",
        "How to encode actions 2:\n",
        "positions on board:\n",
        "king: 4x4 = 16 possibilities\n",
        "queen: 4x4 = 16 possibilities\n",
        "\n",
        "Was tun wenn illgal move?\n",
        "https://ai.stackexchange.com/questions/2980/how-should-i-handle-invalid-actions-when-using-reinforce\n",
        "just ignore them\n",
        "\n",
        "https://legacy.cs.indiana.edu/~gasser/Smarts/learning.html"
      ],
      "id": "xAKAnwSj6gVv"
    },
    {
      "cell_type": "code",
      "execution_count": 3,
      "metadata": {
        "id": "1kPWaXAh6gVy"
      },
      "outputs": [],
      "source": [
        "class NeuralNetworkQAS():\n",
        "    \n",
        "    def __init__(self, N_in, N_h, N_a, epsilon=0.2, beta=0.00005, gamma=0.85, eta=0.0035, learning_strategy=\"sarsa\"):\n",
        "        \n",
        "        self.learning_strategy = learning_strategy\n",
        "        \n",
        "        # HYPERPARAMETERS SUGGESTED (FOR A GRID SIZE OF 4)\n",
        "\n",
        "        self.epsilon = epsilon     # STARTING VALUE OF EPSILON FOR THE EPSILON-GREEDY POLICY\n",
        "        self.beta = beta      # THE PARAMETER SETS HOW QUICKLY THE VALUE OF EPSILON IS DECAYING (SEE epsilon_f BELOW)\n",
        "        self.gamma = gamma        # THE DISCOUNT FACTOR\n",
        "        self.eta = eta        # THE LEARNING RATE\n",
        "\n",
        "        self.N_episodes = 10 # THE NUMBER OF GAMES TO BE PLAYED \n",
        "\n",
        "        # SAVING VARIABLES\n",
        "        self.R_save = np.zeros([self.N_episodes, 1])\n",
        "        self.N_moves_save = np.zeros([self.N_episodes, 1])\n",
        "        \n",
        "        # Layers\n",
        "        self.n_input_layer  = N_in\n",
        "        self.n_hidden_layer = N_h\n",
        "        self.n_output_layer = N_a\n",
        "        \n",
        "        # Xavier init\n",
        "        self.W1 = np.random.randn(N_h, N_in) * np.sqrt(1 / (N_in))\n",
        "        self.W2 = np.random.randn(N_a, N_h) * np.sqrt(1 / (N_h))\n",
        "        \n",
        "        self.dW1 = np.zeros(self.W1.shape)\n",
        "        self.dW2 = np.zeros(self.W2.shape)\n",
        "        \n",
        "        # bias\n",
        "        self.bias_W1 = np.zeros((self.n_hidden_layer,))\n",
        "        self.bias_W2 = np.zeros((self.n_output_layer,))\n",
        "\n",
        "        self.dbias_W1 = np.zeros(self.bias_W1.shape)\n",
        "        self.dbias_W2 = np.zeros(self.bias_W2.shape)\n",
        "        \n",
        "        # game\n",
        "        self.S,self.X,self.allowed_a=env.Initialise_game(0)\n",
        "        self.X_ap = []\n",
        "\n",
        "        # Neural Network variables\n",
        "        self.h1 =np.zeros((200,)) # shape (200,)\n",
        "        self.h2 = np.zeros((32,)) # shape (32,) -> Q_values\n",
        "        self.x0 = np.zeros((58,)) # shape (58,)\n",
        "        self.x1 = np.zeros((200,)) # shape (200,)\n",
        "        self.x2 = np.ones(len(self.h2)) # shape (32,) -> Max Q_value -> recommends action to take\n",
        "\n",
        "        self.q_values = 0\n",
        "\n",
        "        # For graphs\n",
        "        self.rewards_per_game_list = []\n",
        "        self.moves_per_game_list = []\n",
        "\n",
        "        # For reproducibility\n",
        "        self.seeds = []\n",
        "\n",
        "    def backpropagation(self, e_n):\n",
        "\n",
        "        delta2 = self.x2*(1-self.x2) * e_n\n",
        "\n",
        "        # Backpropagation: output layer -> hidden layer\n",
        "        self.dW2 += np.outer(delta2, self.x1)\n",
        "        self.dbias_W2 += delta2\n",
        "\n",
        "        # Backpropagation: hidden layer -> input layer\n",
        "        delta1 = self.x1*(1-self.x1) * np.dot(self.W2.T, delta2)\n",
        "        self.dW1 += np.outer(delta1,self.X)\n",
        "        self.dbias_W1 += delta1\n",
        "                \n",
        "        # Update weights\n",
        "        self.W2 += self.dW2\n",
        "        self.W1 += self.dW1\n",
        "                \n",
        "        # Update bias\n",
        "        self.bias_W1 += self.dbias_W1\n",
        "        self.bias_W2 += self.dbias_W2\n",
        "\n",
        "        \n",
        "    def sarsa(self, N_episodes=100):\n",
        "             \n",
        "        for n in range(N_episodes):\n",
        "            Done = 0\n",
        "            reward_per_game = 0\n",
        "            moves_per_game = 0\n",
        "            q_ap = 0\n",
        "            A_ap = 0\n",
        "            \n",
        "            \n",
        "            # Monitor progress \n",
        "            if (n % 1000 == 0):\n",
        "                print(n)\n",
        "                \n",
        "            # Initialisation \n",
        "            self.S,self.X,self.allowed_a=env.Initialise_game(self.seeds[n]) \n",
        "\n",
        "            # Choose first action A\n",
        "            q_s_a,A = self.predict(self.X, self.allowed_a, self.seeds[n])\n",
        "\n",
        "            \n",
        "            # As long as the game has not finished = for all moves of the game\n",
        "            while Done==0:\n",
        "                \n",
        "                allowed_indices,_=np.where(self.allowed_a==1)  \n",
        "                if A not in allowed_indices:\n",
        "                    break\n",
        "\n",
        "                self.S_ap,self.X_ap,self.allowed_a,R,Done=env.OneStep(A)\n",
        "                moves_per_game += 1\n",
        "                \n",
        "                if Done==0:\n",
        "                    # Choose A_ap from X_ap (-> S_ap written differently), but do not take the action\n",
        "                    # save the x2 from the old predict\n",
        "                    x2_old = self.x2\n",
        "                    q_s_ap_a_ap , A_ap = self.predict(self.X_ap, self.allowed_a, self.seeds[n])\n",
        "                else:\n",
        "                  q_ap = 0\n",
        "                \n",
        "                    \n",
        "                # Update Q-Values\n",
        "                reward_per_game += R\n",
        "                \n",
        "                # backpropagation\n",
        "                # expected - actual\n",
        "                # Compute the error signal -> this is probably wrong?\n",
        "                e_n = self.eta*((R+q_s_a)-self.gamma*q_s_ap_a_ap)*x2_old\n",
        "                self.backpropagation(e_n)\n",
        "\n",
        "                if Done==0:\n",
        "                    #Update state and action\n",
        "                    self.S_ap,self.X,self.allowed_a,R,Done=env.OneStep(A_ap)\n",
        "            \n",
        "            self.moves_per_game_list.append(moves_per_game)\n",
        "            self.rewards_per_game_list.append(reward_per_game)\n",
        "        return self.rewards_per_game_list, self.moves_per_game_list\n",
        "            \n",
        "    \n",
        "    def q_learning(self, N_episodes):\n",
        "            \n",
        "        for n in range(N_episodes):\n",
        "            reward_per_game = 0\n",
        "            moves_per_game = 0\n",
        "            Done = 0\n",
        "            \n",
        "            if (n % 1000 == 0):\n",
        "                print(n)\n",
        "                \n",
        "            # Initialisation \n",
        "            self.S,self.X,self.allowed_a=env.Initialise_game(self.seeds[n])\n",
        "            \n",
        "            # As long as the game has not finished = for all moves of the game\n",
        "            while Done==0:\n",
        " \n",
        "                # Choose A from initial state X (==S)\n",
        "                q1,A = self.predict(self.X, self.allowed_a, self.seeds[n])\n",
        "                \n",
        "                # Take action A, observe R, S', X'\n",
        "                self.S_ap,self.X_ap,self.allowed_a,R,Done=env.OneStep(A)\n",
        "                \n",
        "                # Collect rewards\n",
        "                reward_per_game += R\n",
        "\n",
        "                if Done==0:\n",
        "                    # go to S'\n",
        "                    _, A_ap = self.predict(self.X_ap, self.allowed_a, self.seeds[n])\n",
        "                else:\n",
        "                  q_max = 0\n",
        "                \n",
        "                # find optimal Q(S_ap, a)\n",
        "                q_max = np.max(self.h2)\n",
        "\n",
        "                # Update Neural Net\n",
        "                e_n = self.eta*((R+q1)-self.gamma*q_max)*self.x2\n",
        "                self.backpropagation(e_n)\n",
        "                \n",
        "                # replace state\n",
        "                self.X = self.X_ap\n",
        "\n",
        "                moves_per_game += 1\n",
        "            \n",
        "            self.moves_per_game_list.append(moves_per_game)\n",
        "            self.rewards_per_game_list.append(reward_per_game)\n",
        "        return self.rewards_per_game_list, self.moves_per_game_list\n",
        "     \n",
        "    def train(self, N_episodes=10000, sarsa=True):\n",
        "        self.seeds = range(0, N_episodes)\n",
        "        if sarsa:\n",
        "            return self.sarsa(N_episodes)\n",
        "        else:\n",
        "            return self.q_learning(N_episodes)\n",
        "        \n",
        "    def select_largest_index_from_allowed(self, allowed_a): \n",
        "        allowed_numerical,_=np.where(allowed_a==1) \n",
        "        max_value = 2.2250738585072014e-308\n",
        "        max_index = np.random.permutation(allowed_numerical)[0]\n",
        "        \n",
        "        for q_value, is_allowed, index in zip(self.h2, allowed_a, range(0, len(self.h2))):\n",
        "            if is_allowed[0] == 1:\n",
        "                if q_value > max_value:\n",
        "                    max_value = q_value\n",
        "                    max_index = index\n",
        "                    \n",
        "        return max_value, max_index\n",
        "\n",
        "        \n",
        "    \n",
        "    def select_random_index_from_allowed(self, allowed_a, seed):\n",
        "        np.random.seed(seed)\n",
        "        allowed_indices,_=np.where(allowed_a==1) \n",
        "        rand_index = random.choice(allowed_indices)\n",
        "        rand_q_value = self.h2[rand_index]\n",
        "        \n",
        "        return rand_q_value, rand_index\n",
        "        \n",
        "    def predict(self, x_predict, allowed_a, seed, e_greedy=True):\n",
        "        self.x0 = x_predict\n",
        "        \n",
        "        # input layer -> hidden layer\n",
        "        self.h1 = np.dot(self.W1,x_predict)+self.bias_W1\n",
        "        self.x1 = 1/(1+np.exp(-self.h1))\n",
        "        \n",
        "        # hidden layer -> output layer\n",
        "        self.h2 = np.dot(self.W2,self.x1)+self.bias_W2\n",
        "        \n",
        "        # use conditional soft_max (from the options that are legal, which one is the best?)\n",
        "        allowed_indices,_=np.where(allowed_a==1)     \n",
        "        \n",
        "        np.random.seed(seed)\n",
        "        if e_greedy:\n",
        "            if random.uniform(0, 1) < self.epsilon:\n",
        "                q_value, index = self.select_random_index_from_allowed(allowed_a, seed)\n",
        "                self.epsilon = self.epsilon*(1-self.beta)\n",
        "            else:\n",
        "                q_value, index = self.select_largest_index_from_allowed(allowed_a)\n",
        "        else:\n",
        "            q_value, index = self.select_largest_index_from_allowed(allowed_a)\n",
        "        \n",
        "        self.x2 = np.zeros(len(self.h2))\n",
        "        self.x2[index] = 1\n",
        "        return q_value, index\n",
        "    \n",
        "    def ema(self, alpha, interval_size, time_values):\n",
        "        current_value = time_values[interval_size]\n",
        "        if interval_size <= 0:\n",
        "            return current_value\n",
        "        else: \n",
        "            return alpha*current_value + (1-alpha)*self.ema(alpha, interval_size-1, time_values[:interval_size])\n",
        "    \n",
        "    def exponential_moving_average(self, alpha, interval_size, list_to_smooth):\n",
        "        # alpha between zero and one\n",
        "        ema_list = []\n",
        "        # first element gets not smoothed\n",
        "        first_values_list = np.empty(interval_size)\n",
        "        mean_for_first_values = np.mean(list_to_smooth[interval_size:])\n",
        "        first_values_list.fill(mean_for_first_values)\n",
        "        ema_list += list(first_values_list)\n",
        "        \n",
        "        for index, element in enumerate(list_to_smooth[interval_size:]):\n",
        "            ema_list.append(self.ema(alpha, interval_size, ema_list[len(ema_list)-interval_size:]+[element]))\n",
        "        return ema_list\n",
        "        \n",
        "        \n",
        "        "
      ],
      "id": "1kPWaXAh6gVy"
    },
    {
      "cell_type": "code",
      "execution_count": 4,
      "metadata": {
        "id": "TFWeanEQ6gV6"
      },
      "outputs": [],
      "source": [
        "S,X,allowed_a=env.Initialise_game(0)\n",
        "N_a=np.shape(allowed_a)[0]   # TOTAL NUMBER OF POSSIBLE ACTIONS -> 16 for king 1 and 16 for queen 1\n",
        "\n",
        "N_in=np.shape(X)[0]    ## INPUT SIZE -> 16 booleans to indicate where king 1 is, 16 for king 2 and 16 for queen 1\n",
        "N_h=200 "
      ],
      "id": "TFWeanEQ6gV6"
    },
    {
      "cell_type": "markdown",
      "metadata": {
        "id": "7vlFTFff6gWD"
      },
      "source": [
        "## 3. SARSA"
      ],
      "id": "7vlFTFff6gWD"
    },
    {
      "cell_type": "code",
      "execution_count": 17,
      "metadata": {
        "colab": {
          "base_uri": "https://localhost:8080/"
        },
        "id": "T9iJY-EF6gWE",
        "outputId": "1ca2d610-e386-4791-9c31-4e9d9da168a9"
      },
      "outputs": [
        {
          "output_type": "stream",
          "name": "stdout",
          "text": [
            "0\n",
            "1000\n",
            "2000\n",
            "3000\n",
            "4000\n",
            "5000\n",
            "6000\n",
            "7000\n",
            "8000\n",
            "9000\n",
            "10000\n",
            "11000\n",
            "12000\n",
            "13000\n",
            "14000\n",
            "15000\n",
            "16000\n",
            "17000\n",
            "18000\n",
            "19000\n",
            "20000\n",
            "21000\n",
            "22000\n",
            "23000\n",
            "24000\n",
            "25000\n",
            "26000\n",
            "27000\n",
            "28000\n",
            "29000\n",
            "30000\n",
            "31000\n",
            "32000\n",
            "33000\n",
            "34000\n",
            "35000\n",
            "36000\n",
            "37000\n",
            "38000\n",
            "39000\n",
            "40000\n",
            "41000\n",
            "42000\n",
            "43000\n",
            "44000\n",
            "45000\n",
            "46000\n",
            "47000\n",
            "48000\n",
            "49000\n",
            "50000\n",
            "51000\n",
            "52000\n",
            "53000\n",
            "54000\n",
            "55000\n",
            "56000\n",
            "57000\n",
            "58000\n",
            "59000\n",
            "60000\n",
            "61000\n",
            "62000\n",
            "63000\n",
            "64000\n",
            "65000\n",
            "66000\n",
            "67000\n",
            "68000\n",
            "69000\n",
            "70000\n",
            "71000\n",
            "72000\n",
            "73000\n",
            "74000\n",
            "75000\n",
            "76000\n",
            "77000\n",
            "78000\n",
            "79000\n",
            "80000\n",
            "81000\n",
            "82000\n",
            "83000\n",
            "84000\n",
            "85000\n",
            "86000\n",
            "87000\n",
            "88000\n",
            "89000\n",
            "90000\n",
            "91000\n",
            "92000\n",
            "93000\n",
            "94000\n",
            "95000\n",
            "96000\n",
            "97000\n",
            "98000\n",
            "99000\n"
          ]
        }
      ],
      "source": [
        "# Train the network for sarsa\n",
        "qas = NeuralNetworkQAS(N_in, N_h, N_a)\n",
        "rewards_per_game_list, moves_per_game_list = qas.train(100000, sarsa=True)"
      ],
      "id": "T9iJY-EF6gWE"
    },
    {
      "cell_type": "code",
      "execution_count": 18,
      "metadata": {
        "colab": {
          "base_uri": "https://localhost:8080/",
          "height": 461
        },
        "id": "_K3ICLfz6gWG",
        "outputId": "7ccc616f-5230-4318-ff13-720d232ad2c6"
      },
      "outputs": [
        {
          "output_type": "execute_result",
          "data": {
            "text/plain": [
              "[<matplotlib.lines.Line2D at 0x7ff3471660d0>]"
            ]
          },
          "metadata": {},
          "execution_count": 18
        },
        {
          "output_type": "display_data",
          "data": {
            "text/plain": [
              "<Figure size 640x480 with 1 Axes>"
            ],
            "image/png": "[encoded data removed]"
          },
          "metadata": {
            "needs_background": "light"
          }
        }
      ],
      "source": [
        "# Show Rewards per Game over Time\n",
        "plt.figure(figsize=(8, 6), dpi=80)\n",
        "x = range(0, len(rewards_per_game_list))\n",
        "reward_ema = qas.exponential_moving_average(0.01, 10, rewards_per_game_list)\n",
        "plt.ylim(0,1)\n",
        "plt.title(\"Reward over Time\")\n",
        "plt.xlabel(\"number of games played\")\n",
        "plt.ylabel(\"average reward\")\n",
        "plt.plot(x, reward_ema)\n"
      ],
      "id": "_K3ICLfz6gWG"
    },
    {
      "cell_type": "code",
      "execution_count": 19,
      "metadata": {
        "colab": {
          "base_uri": "https://localhost:8080/",
          "height": 461
        },
        "id": "_0JjPCIy6gWH",
        "outputId": "0b82b018-5f1d-4a51-8353-cd46f7475fbc"
      },
      "outputs": [
        {
          "output_type": "execute_result",
          "data": {
            "text/plain": [
              "[<matplotlib.lines.Line2D at 0x7ff3470656d0>]"
            ]
          },
          "metadata": {},
          "execution_count": 19
        },
        {
          "output_type": "display_data",
          "data": {
            "text/plain": [
              "<Figure size 640x480 with 1 Axes>"
            ],
            "image/png": "[encoded data removed]"
          },
          "metadata": {
            "needs_background": "light"
          }
        }
      ],
      "source": [
        "# Show Moves per Game over Time\n",
        "plt.figure(figsize=(8, 6), dpi=80)\n",
        "x = range(0, len(moves_per_game_list))\n",
        "moves_ema = qas.exponential_moving_average(0.1, 10, moves_per_game_list)\n",
        "plt.title(\"Moves over Time\")\n",
        "plt.xlabel(\"number of games played\")\n",
        "plt.ylabel(\"average moves\")\n",
        "plt.plot(x, moves_ema)\n"
      ],
      "id": "_0JjPCIy6gWH"
    },
    {
      "cell_type": "markdown",
      "metadata": {
        "id": "7NlfEzuH7G9h"
      },
      "source": [
        "## 4. SARSA with changed parameters"
      ],
      "id": "7NlfEzuH7G9h"
    },
    {
      "cell_type": "markdown",
      "metadata": {
        "id": "F0t_1PjOA9rI"
      },
      "source": [
        "### 4.1 Change Beta, the parameter that sets how quickly the value of epsilon is decaying"
      ],
      "id": "F0t_1PjOA9rI"
    },
    {
      "cell_type": "code",
      "execution_count": 6,
      "metadata": {
        "colab": {
          "base_uri": "https://localhost:8080/"
        },
        "id": "5LX3LLwtACbH",
        "outputId": "2fcf5750-4b95-41f2-85a8-ee3574503389"
      },
      "outputs": [
        {
          "output_type": "stream",
          "name": "stdout",
          "text": [
            "0\n",
            "1000\n",
            "2000\n",
            "3000\n",
            "4000\n",
            "5000\n",
            "6000\n",
            "7000\n",
            "8000\n",
            "9000\n",
            "10000\n",
            "11000\n",
            "12000\n",
            "13000\n",
            "14000\n",
            "15000\n",
            "16000\n",
            "17000\n",
            "18000\n",
            "19000\n"
          ]
        }
      ],
      "source": [
        "# Train the network for sarsa\n",
        "# the following parameters can be changed: epsilon=0.2, beta=0.00005, gamma=0.85, eta=0.0035\n",
        "qas = NeuralNetworkQAS(N_in, N_h, N_a, beta=0.0001)\n",
        "rewards_per_game_list, moves_per_game_list = qas.train(20000, sarsa=True)"
      ],
      "id": "5LX3LLwtACbH"
    },
    {
      "cell_type": "code",
      "execution_count": 7,
      "metadata": {
        "id": "6K5L-DDHACo0",
        "colab": {
          "base_uri": "https://localhost:8080/",
          "height": 461
        },
        "outputId": "9492b9ea-1cd4-446f-8496-608eb4576fdb"
      },
      "outputs": [
        {
          "output_type": "execute_result",
          "data": {
            "text/plain": [
              "[<matplotlib.lines.Line2D at 0x7fcd67fab890>]"
            ]
          },
          "metadata": {},
          "execution_count": 7
        },
        {
          "output_type": "display_data",
          "data": {
            "text/plain": [
              "<Figure size 640x480 with 1 Axes>"
            ],
            "image/png": "[encoded data removed]"
          },
          "metadata": {
            "needs_background": "light"
          }
        }
      ],
      "source": [
        "# Show Rewards per Game over Time\n",
        "plt.figure(figsize=(8, 6), dpi=80)\n",
        "x = range(0, len(rewards_per_game_list))\n",
        "reward_ema = qas.exponential_moving_average(0.01, 10, rewards_per_game_list)\n",
        "plt.ylim(0,1)\n",
        "plt.title(\"Reward over Time\")\n",
        "plt.xlabel(\"number of games played\")\n",
        "plt.ylabel(\"average reward\")\n",
        "plt.plot(x, reward_ema)"
      ],
      "id": "6K5L-DDHACo0"
    },
    {
      "cell_type": "code",
      "execution_count": 8,
      "metadata": {
        "id": "5v2nXsrsACtR",
        "colab": {
          "base_uri": "https://localhost:8080/",
          "height": 461
        },
        "outputId": "c87d006a-6aee-4872-9e1e-8d8a519a520c"
      },
      "outputs": [
        {
          "output_type": "execute_result",
          "data": {
            "text/plain": [
              "[<matplotlib.lines.Line2D at 0x7fcd5f58c150>]"
            ]
          },
          "metadata": {},
          "execution_count": 8
        },
        {
          "output_type": "display_data",
          "data": {
            "text/plain": [
              "<Figure size 640x480 with 1 Axes>"
            ],
            "image/png": "[encoded data removed]"
          },
          "metadata": {
            "needs_background": "light"
          }
        }
      ],
      "source": [
        "# Show Moves per Game over Time\n",
        "plt.figure(figsize=(8, 6), dpi=80)\n",
        "x = range(0, len(moves_per_game_list))\n",
        "moves_ema = qas.exponential_moving_average(0.1, 10, moves_per_game_list)\n",
        "plt.title(\"Moves over Time\")\n",
        "plt.xlabel(\"number of games played\")\n",
        "plt.ylabel(\"average moves\")\n",
        "plt.plot(x, moves_ema)"
      ],
      "id": "5v2nXsrsACtR"
    },
    {
      "cell_type": "markdown",
      "metadata": {
        "id": "62GYyA-DCdqf"
      },
      "source": [
        "### 4.2 Change Gamma, the Discount Factor"
      ],
      "id": "62GYyA-DCdqf"
    },
    {
      "cell_type": "code",
      "execution_count": 6,
      "metadata": {
        "id": "KjVLyOV7GbRn",
        "colab": {
          "base_uri": "https://localhost:8080/"
        },
        "outputId": "7153446f-b036-4782-e36f-0452e7853770"
      },
      "outputs": [
        {
          "output_type": "stream",
          "name": "stdout",
          "text": [
            "0\n",
            "1000\n",
            "2000\n",
            "3000\n",
            "4000\n",
            "5000\n",
            "6000\n",
            "7000\n",
            "8000\n",
            "9000\n",
            "10000\n",
            "11000\n",
            "12000\n",
            "13000\n",
            "14000\n",
            "15000\n",
            "16000\n",
            "17000\n",
            "18000\n",
            "19000\n",
            "20000\n",
            "21000\n",
            "22000\n",
            "23000\n",
            "24000\n",
            "25000\n",
            "26000\n",
            "27000\n",
            "28000\n",
            "29000\n",
            "30000\n",
            "31000\n",
            "32000\n",
            "33000\n",
            "34000\n",
            "35000\n",
            "36000\n",
            "37000\n",
            "38000\n",
            "39000\n",
            "40000\n",
            "41000\n",
            "42000\n",
            "43000\n",
            "44000\n",
            "45000\n",
            "46000\n",
            "47000\n",
            "48000\n",
            "49000\n",
            "50000\n",
            "51000\n",
            "52000\n",
            "53000\n",
            "54000\n",
            "55000\n",
            "56000\n",
            "57000\n",
            "58000\n",
            "59000\n",
            "60000\n",
            "61000\n",
            "62000\n",
            "63000\n",
            "64000\n",
            "65000\n",
            "66000\n",
            "67000\n",
            "68000\n",
            "69000\n",
            "70000\n",
            "71000\n",
            "72000\n",
            "73000\n",
            "74000\n",
            "75000\n",
            "76000\n",
            "77000\n",
            "78000\n",
            "79000\n"
          ]
        }
      ],
      "source": [
        "qas = NeuralNetworkQAS(N_in, N_h, N_a, gamma=0.5)\n",
        "rewards_per_game_list, moves_per_game_list = qas.train(80000, sarsa=True)"
      ],
      "id": "KjVLyOV7GbRn"
    },
    {
      "cell_type": "code",
      "execution_count": 7,
      "metadata": {
        "id": "CGz9hxkfGbbm",
        "colab": {
          "base_uri": "https://localhost:8080/",
          "height": 461
        },
        "outputId": "8670077e-c251-4ce9-b39c-93056e6a8112"
      },
      "outputs": [
        {
          "output_type": "execute_result",
          "data": {
            "text/plain": [
              "[<matplotlib.lines.Line2D at 0x7f44f7a54e50>]"
            ]
          },
          "metadata": {},
          "execution_count": 7
        },
        {
          "output_type": "display_data",
          "data": {
            "text/plain": [
              "<Figure size 640x480 with 1 Axes>"
            ],
            "image/png": "[encoded data removed]"
          },
          "metadata": {
            "needs_background": "light"
          }
        }
      ],
      "source": [
        "# Show Rewards per Game over Time\n",
        "plt.figure(figsize=(8, 6), dpi=80)\n",
        "x = range(0, len(rewards_per_game_list))\n",
        "reward_ema = qas.exponential_moving_average(0.01, 10, rewards_per_game_list)\n",
        "plt.ylim(0,1)\n",
        "plt.title(\"Reward over Time\")\n",
        "plt.xlabel(\"number of games played\")\n",
        "plt.ylabel(\"average reward\")\n",
        "plt.plot(x, reward_ema)"
      ],
      "id": "CGz9hxkfGbbm"
    },
    {
      "cell_type": "code",
      "execution_count": 8,
      "metadata": {
        "id": "QBZ5pZ2eGbqm",
        "colab": {
          "base_uri": "https://localhost:8080/",
          "height": 461
        },
        "outputId": "e163faee-a82f-44a0-ed5e-473384da48e0"
      },
      "outputs": [
        {
          "output_type": "execute_result",
          "data": {
            "text/plain": [
              "[<matplotlib.lines.Line2D at 0x7f44f72c1910>]"
            ]
          },
          "metadata": {},
          "execution_count": 8
        },
        {
          "output_type": "display_data",
          "data": {
            "text/plain": [
              "<Figure size 640x480 with 1 Axes>"
            ],
            "image/png": "[encoded data removed]"
          },
          "metadata": {
            "needs_background": "light"
          }
        }
      ],
      "source": [
        "# Show Moves per Game over Time\n",
        "plt.figure(figsize=(8, 6), dpi=80)\n",
        "x = range(0, len(moves_per_game_list))\n",
        "moves_ema = qas.exponential_moving_average(0.1, 10, moves_per_game_list)\n",
        "plt.title(\"Moves over Time\")\n",
        "plt.xlabel(\"number of games played\")\n",
        "plt.ylabel(\"average moves\")\n",
        "plt.plot(x, moves_ema)"
      ],
      "id": "QBZ5pZ2eGbqm"
    },
    {
      "cell_type": "markdown",
      "metadata": {
        "id": "hk_HPMTh6gWK"
      },
      "source": [
        "## 5. Q-Learning"
      ],
      "id": "hk_HPMTh6gWK"
    },
    {
      "cell_type": "code",
      "execution_count": 5,
      "metadata": {
        "colab": {
          "base_uri": "https://localhost:8080/"
        },
        "id": "-ZhuvsPC6gWL",
        "outputId": "203dd645-ad4c-4dbf-de9c-84a3e39391eb"
      },
      "outputs": [
        {
          "output_type": "stream",
          "name": "stdout",
          "text": [
            "0\n",
            "1000\n",
            "2000\n",
            "3000\n",
            "4000\n",
            "5000\n",
            "6000\n",
            "7000\n",
            "8000\n",
            "9000\n",
            "10000\n",
            "11000\n",
            "12000\n",
            "13000\n",
            "14000\n"
          ]
        }
      ],
      "source": [
        "qas = NeuralNetworkQAS(N_in, N_h, N_a)\n",
        "rewards_per_game_list, moves_per_game_list = qas.train(15000, sarsa=False)\n"
      ],
      "id": "-ZhuvsPC6gWL"
    },
    {
      "cell_type": "code",
      "execution_count": 6,
      "metadata": {
        "id": "tQ3Y2w2uO1qH",
        "colab": {
          "base_uri": "https://localhost:8080/",
          "height": 461
        },
        "outputId": "3db07895-4804-4dad-f316-de34384703e5"
      },
      "outputs": [
        {
          "output_type": "execute_result",
          "data": {
            "text/plain": [
              "[<matplotlib.lines.Line2D at 0x7f9ebd5eda90>]"
            ]
          },
          "metadata": {},
          "execution_count": 6
        },
        {
          "output_type": "display_data",
          "data": {
            "text/plain": [
              "<Figure size 640x480 with 1 Axes>"
            ],
            "image/png": "[encoded data removed]"
          },
          "metadata": {
            "needs_background": "light"
          }
        }
      ],
      "source": [
        "# Show Rewards per Game over Time\n",
        "plt.figure(figsize=(8, 6), dpi=80)\n",
        "x = range(0, len(rewards_per_game_list))\n",
        "reward_ema = qas.exponential_moving_average(0.01, 10, rewards_per_game_list)\n",
        "plt.ylim(0,1)\n",
        "plt.title(\"Reward over Time\")\n",
        "plt.xlabel(\"number of games played\")\n",
        "plt.ylabel(\"average reward\")\n",
        "plt.plot(x, reward_ema)"
      ],
      "id": "tQ3Y2w2uO1qH"
    },
    {
      "cell_type": "code",
      "execution_count": 7,
      "metadata": {
        "id": "5mR3ReMWO1uW",
        "colab": {
          "base_uri": "https://localhost:8080/",
          "height": 461
        },
        "outputId": "b574bb0b-2d97-4595-e34a-62213d96f7e5"
      },
      "outputs": [
        {
          "output_type": "execute_result",
          "data": {
            "text/plain": [
              "[<matplotlib.lines.Line2D at 0x7f9ebd053050>]"
            ]
          },
          "metadata": {},
          "execution_count": 7
        },
        {
          "output_type": "display_data",
          "data": {
            "text/plain": [
              "<Figure size 640x480 with 1 Axes>"
            ],
            "image/png": "[encoded data removed]"
          },
          "metadata": {
            "needs_background": "light"
          }
        }
      ],
      "source": [
        "# Show Moves per Game over Time\n",
        "plt.figure(figsize=(8, 6), dpi=80)\n",
        "x = range(0, len(moves_per_game_list))\n",
        "moves_ema = qas.exponential_moving_average(0.1, 10, moves_per_game_list)\n",
        "plt.title(\"Moves over Time\")\n",
        "plt.xlabel(\"number of games played\")\n",
        "plt.ylabel(\"average moves\")\n",
        "plt.plot(x, moves_ema)"
      ],
      "id": "5mR3ReMWO1uW"
    }
  ],
  "metadata": {
    "colab": {
      "collapsed_sections": [],
      "name": "Assignment.ipynb",
      "provenance": []
    },
    "kernelspec": {
      "display_name": "Python 3",
      "language": "python",
      "name": "python3"
    },
    "language_info": {
      "codemirror_mode": {
        "name": "ipython",
        "version": 3
      },
      "file_extension": ".py",
      "mimetype": "text/x-python",
      "name": "python",
      "nbconvert_exporter": "python",
      "pygments_lexer": "ipython3",
      "version": "3.7.3"
    }
  },
  "nbformat": 4,
  "nbformat_minor": 5
}